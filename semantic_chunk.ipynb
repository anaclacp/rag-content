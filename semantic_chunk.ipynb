{
 "cells": [
  {
   "cell_type": "markdown",
   "metadata": {},
   "source": [
    "# Segmentação Semântica para Processamento de Documentos\n",
    "\n",
    "## Visão Geral\n",
    "\n",
    "Este código implementa uma abordagem de segmentação semântica para processar e recuperar informações de documentos PDF, [proposta inicialmente por Greg Kamradt](https://youtu.be/8OJC21T2SL4?t=1933) e posteriormente [implementada no LangChain](https://docs.llamaindex.ai/en/stable/examples/node_parsers/semantic_chunking/). Diferentemente dos métodos tradicionais que dividem o texto com base em contagens fixas de caracteres ou palavras, a segmentação semântica visa criar segmentos de texto mais significativos e contextualmente conscientes.\n",
    "\n",
    "## Motivação\n",
    "\n",
    "Os métodos tradicionais de divisão de texto frequentemente quebram documentos em pontos arbitrários, potencialmente interrompendo o fluxo de informações e o contexto. A segmentação semântica aborda esse problema tentando dividir o texto em pontos de quebra mais naturais, preservando a coerência semântica dentro de cada segmento.\n",
    "\n",
    "## Componentes Principais\n",
    "\n",
    "1. Processamento de PDF e extração de texto\n",
    "2. Segmentação semântica usando o `SemanticChunker` do LangChain\n",
    "3. Criação de um armazenamento de vetores usando FAISS e embeddings da OpenAI\n",
    "4. Configuração de um recuperador para consultar os documentos processados\n",
    "\n",
    "## Detalhes do Método\n",
    "\n",
    "### Pré-processamento do Documento\n",
    "\n",
    "1. O PDF é lido e convertido em uma string usando uma função personalizada `read_pdf_to_string`.\n",
    "\n",
    "### Segmentação Semântica\n",
    "\n",
    "1. Utiliza o `SemanticChunker` do LangChain com embeddings da OpenAI.\n",
    "2. Três tipos de pontos de quebra estão disponíveis:\n",
    "   - 'percentile': Divide em diferenças maiores que o percentil X.\n",
    "   - 'standard_deviation': Divide em diferenças maiores que X desvios padrão.\n",
    "   - 'interquartile': Usa a distância interquartil para determinar os pontos de divisão.\n",
    "3. Nesta implementação, o método 'percentile' é usado com um limite de 90.\n",
    "\n",
    "### Criação do Armazenamento de Vetores\n",
    "\n",
    "1. Os embeddings da OpenAI são usados para criar representações vetoriais dos segmentos semânticos.\n",
    "2. Um armazenamento de vetores FAISS é criado a partir desses embeddings para uma busca de similaridade eficiente.\n",
    "\n",
    "### Configuração do Recuperador\n",
    "\n",
    "1. Um recuperador é configurado para buscar os 2 segmentos mais relevantes para uma determinada consulta.\n",
    "\n",
    "## Características Principais\n",
    "\n",
    "1. Divisão Consciente do Contexto: Tenta manter a coerência semântica dentro dos segmentos.\n",
    "2. Configuração Flexível: Permite diferentes tipos de pontos de quebra e limites.\n",
    "3. Integração com Ferramentas Avançadas de NLP: Usa embeddings da OpenAI tanto para a segmentação quanto para a recuperação.\n",
    "\n",
    "## Benefícios dessa Abordagem\n",
    "\n",
    "1. Coerência Melhorada: Os segmentos têm maior probabilidade de conter pensamentos ou ideias completas.\n",
    "2. Melhor Relevância na Recuperação: Ao preservar o contexto, a precisão da recuperação pode ser aprimorada.\n",
    "3. Adaptabilidade: O método de segmentação pode ser ajustado com base na natureza dos documentos e nas necessidades de recuperação.\n",
    "4. Potencial para Melhor Compreensão: Modelos de linguagem ou tarefas subsequentes podem ter um desempenho melhor com segmentos de texto mais coerentes.\n",
    "\n",
    "## Detalhes de Implementação\n",
    "\n",
    "1. Usa embeddings da OpenAI tanto para o processo de segmentação semântica quanto para as representações vetoriais finais.\n",
    "2. Emprega FAISS para criar um índice pesquisável eficiente dos segmentos.\n",
    "3. O recuperador é configurado para retornar os 2 segmentos mais relevantes, que podem ser ajustados conforme necessário.\n",
    "\n",
    "## Exemplo de Uso\n",
    "\n",
    "O código inclui uma consulta de teste: \"Qual é a principal causa das mudanças climáticas?\". Isso demonstra como o sistema de segmentação semântica e recuperação pode ser usado para encontrar informações relevantes no documento processado.\n",
    "\n",
    "## Conclusão\n",
    "\n",
    "A segmentação semântica representa uma abordagem avançada para o processamento de documentos em sistemas de recuperação. Ao tentar manter a coerência semântica dentro dos segmentos de texto, ela tem o potencial de melhorar a qualidade das informações recuperadas e aprimorar o desempenho de tarefas subsequentes de NLP. Essa técnica é particularmente valiosa para processar documentos longos e complexos, onde a manutenção do contexto é crucial, como artigos científicos, documentos jurídicos ou relatórios abrangentes."
   ]
  },
  {
   "cell_type": "code",
   "execution_count": null,
   "metadata": {
    "vscode": {
     "languageId": "plaintext"
    }
   },
   "outputs": [],
   "source": [
    "import os\n",
    "import sys\n",
    "from dotenv import load_dotenv\n",
    "\n",
    "sys.path.append(os.path.abspath(os.path.join(os.getcwd(), '..'))) # Adiciona o diretório pai ao caminho, já que trabalhamos com notebooks\n",
    "from helper_functions import *\n",
    "from evaluation.evalute_rag import *\n",
    "\n",
    "from langchain_experimental.text_splitter import SemanticChunker\n",
    "from langchain_openai.embeddings import OpenAIEmbeddings\n",
    "\n",
    "# Carrega variáveis de ambiente de um arquivo .env\n",
    "load_dotenv()\n",
    "\n",
    "# Define a variável de ambiente da chave da API da OpenAI\n",
    "os.environ[\"OPENAI_API_KEY\"] = os.getenv('OPENAI_API_KEY')"
   ]
  },
  {
   "cell_type": "markdown",
   "metadata": {},
   "source": [
    "### Definir caminho do arquivo"
   ]
  },
  {
   "cell_type": "code",
   "execution_count": null,
   "metadata": {
    "vscode": {
     "languageId": "plaintext"
    }
   },
   "outputs": [],
   "source": [
    "path = \"../data/Understanding_Climate_Change.pdf\""
   ]
  },
  {
   "cell_type": "markdown",
   "metadata": {},
   "source": [
    "### Ler PDF para string"
   ]
  },
  {
   "cell_type": "code",
   "execution_count": null,
   "metadata": {
    "vscode": {
     "languageId": "plaintext"
    }
   },
   "outputs": [],
   "source": [
    "content = read_pdf_to_string(path)"
   ]
  },
  {
   "cell_type": "markdown",
   "metadata": {},
   "source": [
    "### Tipos de pontos de quebra:\n",
    "* 'percentile': todas as diferenças entre as frases são calculadas, e então qualquer diferença maior que o percentil X é dividida.\n",
    "* 'standard_deviation': qualquer diferença maior que X desvios padrão é dividida.\n",
    "* 'interquartile': a distância interquartil é usada para dividir os segmentos."
   ]
  },
  {
   "cell_type": "code",
   "execution_count": null,
   "metadata": {
    "vscode": {
     "languageId": "plaintext"
    }
   },
   "outputs": [],
   "source": [
    "text_splitter = SemanticChunker(OpenAIEmbeddings(), breakpoint_threshold_type='percentile', breakpoint_threshold_amount=90) # escolhe quais embeddings, tipo de ponto de quebra e limite usar"
   ]
  },
  {
   "cell_type": "markdown",
   "metadata": {},
   "source": [
    "### Dividir o texto original em segmentos semânticos"
   ]
  },
  {
   "cell_type": "code",
   "execution_count": null,
   "metadata": {
    "vscode": {
     "languageId": "plaintext"
    }
   },
   "outputs": [],
   "source": [
    "docs = text_splitter.create_documents([content])"
   ]
  },
  {
   "cell_type": "markdown",
   "metadata": {},
   "source": [
    "### Criar armazenamento de vetores e recuperador"
   ]
  },
  {
   "cell_type": "code",
   "execution_count": null,
   "metadata": {
    "vscode": {
     "languageId": "plaintext"
    }
   },
   "outputs": [],
   "source": [
    "embeddings = OpenAIEmbeddings()\n",
    "vectorstore = FAISS.from_documents(docs, embeddings)\n",
    "chunks_query_retriever = vectorstore.as_retriever(search_kwargs={\"k\": 2})"
   ]
  },
  {
   "cell_type": "markdown",
   "metadata": {},
   "source": [
    "### Testar o recuperador"
   ]
  },
  {
   "cell_type": "code",
   "execution_count": null,
   "metadata": {
    "vscode": {
     "languageId": "plaintext"
    }
   },
   "outputs": [],
   "source": [
    "test_query = \"Qual é a principal causa das mudanças climáticas?\"\n",
    "context = retrieve_context_per_question(test_query, chunks_query_retriever)\n",
    "show_context(context)"
   ]
  }
 ],
 "metadata": {
  "language_info": {
   "name": "python"
  }
 },
 "nbformat": 4,
 "nbformat_minor": 2
}
